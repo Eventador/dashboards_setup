{
 "cells": [
  {
   "cell_type": "markdown",
   "metadata": {},
   "source": [
    "<div class=\"clearfix\" style=\"padding: 10px; padding-left: 0px\">\n",
    "<img src=\"https://raw.githubusercontent.com/jupyter/nature-demo/master/images/jupyter-logo.png\" width=\"150px\" style=\"display: inline-block; margin-top: 5px;\">\n",
    "</div>\n",
    "\n",
    "## Welcome\n",
    "\n",
    "This Notebook Server was **launched just for you** to try a snapshot of the [content management](https://github.com/jupyter-incubator/contentmanagement), [declarative widget](https://github.com/jupyter-incubator/declarativewidgets), and [dashboard](https://github.com/jupyter-incubator/dashboards) extensions from the Jupyter Incubation area. It's a temporary sandbox for you to evaluate new features that may one day land in Jupyter. Just don't rely on this server for anything you want to last: your server will be *deleted after 10 minutes of inactivity*.\n",
    "\n",
    "You can get acquainted with these incubation projects by watching the (somewhat-dated) video below. You can also try the demos you see in the video (and more) using this Notebook Server: just follow the links at the bottom of this notebook.\n",
    "\n",
    "Last updated: {{DATE}}"
   ]
  },
  {
   "cell_type": "code",
   "execution_count": 1,
   "metadata": {
    "collapsed": false
   },
   "outputs": [
    {
     "data": {
      "text/html": [
       "<iframe width=\"640\" height=\"360\" src=\"https://www.youtube.com/embed/SJiezXPhVv8\" frameborder=\"0\" allowfullscreen></iframe>"
      ],
      "text/plain": [
       "<IPython.core.display.HTML object>"
      ]
     },
     "metadata": {},
     "output_type": "display_data"
    }
   ],
   "source": [
    "%%html\n",
    "<iframe width=\"640\" height=\"360\" src=\"https://www.youtube.com/embed/SJiezXPhVv8\" frameborder=\"0\" allowfullscreen></iframe>"
   ]
  },
  {
   "cell_type": "markdown",
   "metadata": {},
   "source": [
    "## Declarative Widgets\n",
    "\n",
    "Take a quick tour in the [declarative widgets feature walkthrough](./declarativewidgets/demos/Walkthrough.ipynb). See how to apply declarative widgets to NYC taxi data in [the taxi tutorial](./declarativewidgets/demos/tour/index.ipynb). Then browse through [more detailed examples](./declarativewidgets/examples).\n",
    "\n",
    "View the [developer documentation](http://jupyter-incubator.github.io/declarativewidgets/) about the Polymer elements and behaviors provided by the declarative widgets. Visit the [jupyter-incubator/declarativewidgets GitHub repo](https://github.com/jupyter-incubator/declarativewidgets) for more information.\n",
    "\n",
    "## Dynamic Dashboards\n",
    "\n",
    "See the [Introduction to Dashboards](./dashboards/index.ipynb) notebook which includes step-by-step instructions for using the dashboard features as well as numerous notebook-to-dashboard examples. Then visit the [jupyter-incubator/dashboards GitHub repo](https://github.com/jupyter-incubator/dashboards) for more information.\n",
    "\n",
    "## Content Management\n",
    "\n",
    "Try these demos which demonstrate reuse of notebooks as modules, notebook search, and notebook bundling.\n",
    "\n",
    "* [Notebooks as Reusable Modules and Cookbooks](./contentmanagement/cookbooks_demo/use_cookbooks.ipynb)\n",
    "* [Local File Associations](./contentmanagement/associations_demo/associations_demo.ipynb)\n",
    "\n",
    "Visit the [jupyter-incubator/contentmanagement GitHub repo](https://github.com/jupyter-incubator/contentmanagement) for more information.\n",
    "\n",
    "## Bringing it all Together: Jupyter Notebook UX Survey\n",
    "\n",
    "We helped run and analyze the results from a UX survey about the [Jupyter Notebook](https://github.com/jupyter/design/tree/master/surveys/2015-notebook-ux). We created an interactive notebook-dashboard for you to interact with and explore the survey results yourself.\n",
    "\n",
    "* [Interact with our analysis report as a standalone dashboard](../files/2015-notebook-ux-survey/analysis/deployed_dashboard/index.html)\n",
    "* [Execute, modify, and interact with our analysis report as a notebook or dashboard](2015-notebook-ux-survey/analysis/report_dashboard_decl_widgets.ipynb)"
   ]
  }
 ],
 "metadata": {
  "kernelspec": {
   "display_name": "Python 3",
   "language": "python",
   "name": "python3"
  },
  "language_info": {
   "codemirror_mode": {
    "name": "ipython",
    "version": 3
   },
   "file_extension": ".py",
   "mimetype": "text/x-python",
   "name": "python",
   "nbconvert_exporter": "python",
   "pygments_lexer": "ipython3",
   "version": "3.4.4"
  }
 },
 "nbformat": 4,
 "nbformat_minor": 0
}
